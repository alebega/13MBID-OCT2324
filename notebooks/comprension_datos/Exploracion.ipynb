{
 "cells": [
  {
   "cell_type": "markdown",
   "metadata": {},
   "source": [
    "## Máster en Big Data y Data Science\n",
    "\n",
    "### Metodologías de gestión y diseño de proyectos de big data\n",
    "\n",
    "#### AP1 - Exploración de los datos\n",
    "\n",
    "---\n",
    "\n",
    "En esta libreta se realiza un EDA -básico- de los datos del escenario. \n",
    "\n",
    "---"
   ]
  },
  {
   "cell_type": "markdown",
   "metadata": {},
   "source": [
    "##### Importación de librerías"
   ]
  },
  {
   "cell_type": "code",
   "execution_count": 1,
   "metadata": {},
   "outputs": [],
   "source": [
    "import pandas as pd\n",
    "# from ydata_profiling import ProfileReport\n",
    "import dtale as dt\n",
    "import matplotlib.pyplot as plt\n",
    "import seaborn as sns\n",
    "import warnings\n",
    "warnings.filterwarnings('ignore')"
   ]
  },
  {
   "cell_type": "markdown",
   "metadata": {},
   "source": [
    "----\n",
    "\n",
    "##### Lectura de los datasets"
   ]
  },
  {
   "cell_type": "code",
   "execution_count": 2,
   "metadata": {},
   "outputs": [
    {
     "data": {
      "text/html": [
       "<div>\n",
       "<style scoped>\n",
       "    .dataframe tbody tr th:only-of-type {\n",
       "        vertical-align: middle;\n",
       "    }\n",
       "\n",
       "    .dataframe tbody tr th {\n",
       "        vertical-align: top;\n",
       "    }\n",
       "\n",
       "    .dataframe thead th {\n",
       "        text-align: right;\n",
       "    }\n",
       "</style>\n",
       "<table border=\"1\" class=\"dataframe\">\n",
       "  <thead>\n",
       "    <tr style=\"text-align: right;\">\n",
       "      <th></th>\n",
       "      <th>id_cliente</th>\n",
       "      <th>edad</th>\n",
       "      <th>importe_solicitado</th>\n",
       "      <th>duracion_credito</th>\n",
       "      <th>antiguedad_empleado</th>\n",
       "      <th>situacion_vivienda</th>\n",
       "      <th>ingresos</th>\n",
       "      <th>objetivo_credito</th>\n",
       "      <th>pct_ingreso</th>\n",
       "      <th>tasa_interes</th>\n",
       "      <th>estado_credito</th>\n",
       "      <th>falta_pago</th>\n",
       "    </tr>\n",
       "  </thead>\n",
       "  <tbody>\n",
       "    <tr>\n",
       "      <th>0</th>\n",
       "      <td>713061558.0</td>\n",
       "      <td>22</td>\n",
       "      <td>35000</td>\n",
       "      <td>3</td>\n",
       "      <td>123.0</td>\n",
       "      <td>ALQUILER</td>\n",
       "      <td>59000</td>\n",
       "      <td>PERSONAL</td>\n",
       "      <td>0.59</td>\n",
       "      <td>16.02</td>\n",
       "      <td>1</td>\n",
       "      <td>Y</td>\n",
       "    </tr>\n",
       "  </tbody>\n",
       "</table>\n",
       "</div>"
      ],
      "text/plain": [
       "    id_cliente  edad  importe_solicitado  duracion_credito  \\\n",
       "0  713061558.0    22               35000                 3   \n",
       "\n",
       "   antiguedad_empleado situacion_vivienda  ingresos objetivo_credito  \\\n",
       "0                123.0           ALQUILER     59000         PERSONAL   \n",
       "\n",
       "   pct_ingreso  tasa_interes  estado_credito falta_pago  \n",
       "0         0.59         16.02               1          Y  "
      ]
     },
     "execution_count": 2,
     "metadata": {},
     "output_type": "execute_result"
    }
   ],
   "source": [
    "df_creditos = pd.read_csv(\"../../data/raw/datos_creditos.csv\", sep=\";\")\n",
    "df_creditos.head(1)"
   ]
  },
  {
   "cell_type": "code",
   "execution_count": 3,
   "metadata": {},
   "outputs": [
    {
     "data": {
      "text/html": [
       "<div>\n",
       "<style scoped>\n",
       "    .dataframe tbody tr th:only-of-type {\n",
       "        vertical-align: middle;\n",
       "    }\n",
       "\n",
       "    .dataframe tbody tr th {\n",
       "        vertical-align: top;\n",
       "    }\n",
       "\n",
       "    .dataframe thead th {\n",
       "        text-align: right;\n",
       "    }\n",
       "</style>\n",
       "<table border=\"1\" class=\"dataframe\">\n",
       "  <thead>\n",
       "    <tr style=\"text-align: right;\">\n",
       "      <th></th>\n",
       "      <th>id_cliente</th>\n",
       "      <th>antiguedad_cliente</th>\n",
       "      <th>estado_civil</th>\n",
       "      <th>estado_cliente</th>\n",
       "      <th>gastos_ult_12m</th>\n",
       "      <th>genero</th>\n",
       "      <th>limite_credito_tc</th>\n",
       "      <th>nivel_educativo</th>\n",
       "      <th>nivel_tarjeta</th>\n",
       "      <th>operaciones_ult_12m</th>\n",
       "      <th>personas_a_cargo</th>\n",
       "    </tr>\n",
       "  </thead>\n",
       "  <tbody>\n",
       "    <tr>\n",
       "      <th>0</th>\n",
       "      <td>713061558.0</td>\n",
       "      <td>36.0</td>\n",
       "      <td>CASADO</td>\n",
       "      <td>ACTIVO</td>\n",
       "      <td>1088.0</td>\n",
       "      <td>M</td>\n",
       "      <td>4010.0</td>\n",
       "      <td>UNIVERSITARIO_COMPLETO</td>\n",
       "      <td>Blue</td>\n",
       "      <td>24.0</td>\n",
       "      <td>2.0</td>\n",
       "    </tr>\n",
       "  </tbody>\n",
       "</table>\n",
       "</div>"
      ],
      "text/plain": [
       "    id_cliente  antiguedad_cliente estado_civil estado_cliente  \\\n",
       "0  713061558.0                36.0       CASADO         ACTIVO   \n",
       "\n",
       "   gastos_ult_12m genero  limite_credito_tc         nivel_educativo  \\\n",
       "0          1088.0      M             4010.0  UNIVERSITARIO_COMPLETO   \n",
       "\n",
       "  nivel_tarjeta  operaciones_ult_12m  personas_a_cargo  \n",
       "0          Blue                 24.0               2.0  "
      ]
     },
     "execution_count": 3,
     "metadata": {},
     "output_type": "execute_result"
    }
   ],
   "source": [
    "df_tarjetas = pd.read_csv(\"../../data/raw/datos_tarjetas.csv\", sep=\";\")\n",
    "df_tarjetas.head(1)"
   ]
  },
  {
   "cell_type": "markdown",
   "metadata": {},
   "source": [
    "----\n",
    "\n",
    "##### Descripción de los datasets"
   ]
  },
  {
   "cell_type": "code",
   "execution_count": 4,
   "metadata": {},
   "outputs": [],
   "source": [
    "def reporte_descripcion_dataset(df):\n",
    "    columnas = df.columns\n",
    "    print(\"Columnas del dataset:\\n\")\n",
    "    for col in columnas:\n",
    "        print(col)\n",
    "    print(f\"\\nCantidad de filas: {df.shape[0]}\")"
   ]
  },
  {
   "cell_type": "code",
   "execution_count": 5,
   "metadata": {},
   "outputs": [
    {
     "name": "stdout",
     "output_type": "stream",
     "text": [
      "Descripción del dataset 'datos_creditos'\n",
      "Columnas del dataset:\n",
      "\n",
      "id_cliente\n",
      "edad\n",
      "importe_solicitado\n",
      "duracion_credito\n",
      "antiguedad_empleado\n",
      "situacion_vivienda\n",
      "ingresos\n",
      "objetivo_credito\n",
      "pct_ingreso\n",
      "tasa_interes\n",
      "estado_credito\n",
      "falta_pago\n",
      "\n",
      "Cantidad de filas: 10127\n"
     ]
    }
   ],
   "source": [
    "print(\"Descripción del dataset 'datos_creditos'\")\n",
    "reporte_descripcion_dataset(df_creditos)"
   ]
  },
  {
   "cell_type": "code",
   "execution_count": 6,
   "metadata": {},
   "outputs": [
    {
     "name": "stdout",
     "output_type": "stream",
     "text": [
      "Descripción del dataset 'datos_tarjetas'\n",
      "Columnas del dataset:\n",
      "\n",
      "id_cliente\n",
      "antiguedad_cliente\n",
      "estado_civil\n",
      "estado_cliente\n",
      "gastos_ult_12m\n",
      "genero\n",
      "limite_credito_tc\n",
      "nivel_educativo\n",
      "nivel_tarjeta\n",
      "operaciones_ult_12m\n",
      "personas_a_cargo\n",
      "\n",
      "Cantidad de filas: 10127\n"
     ]
    }
   ],
   "source": [
    "print(\"Descripción del dataset 'datos_tarjetas'\")\n",
    "reporte_descripcion_dataset(df_tarjetas)"
   ]
  },
  {
   "cell_type": "markdown",
   "metadata": {},
   "source": [
    "----\n",
    "\n",
    "##### Obtención de metadatos"
   ]
  },
  {
   "cell_type": "code",
   "execution_count": 7,
   "metadata": {},
   "outputs": [],
   "source": [
    "# Se usa la librería dtale para poder obtener una vista interactiva de los datos\n",
    "\n",
    "# Dataset: datos_creditos\n",
    "\n",
    "creditos = dt.show(df_creditos)\n",
    "creditos.open_browser()"
   ]
  },
  {
   "cell_type": "code",
   "execution_count": 8,
   "metadata": {},
   "outputs": [
    {
     "name": "stderr",
     "output_type": "stream",
     "text": [
      "2024-04-21 01:01:05,901 - ERROR    - Exception occurred while processing request: Can only use .str accessor with string values!\n",
      "Traceback (most recent call last):\n",
      "  File \"/opt/anaconda3/lib/python3.11/site-packages/dtale/views.py\", line 119, in _handle_exceptions\n",
      "    return func(*args, **kwargs)\n",
      "           ^^^^^^^^^^^^^^^^^^^^^\n",
      "  File \"/opt/anaconda3/lib/python3.11/site-packages/dtale/views.py\", line 3135, in get_column_analysis\n",
      "    return jsonify(**analysis.build())\n",
      "                     ^^^^^^^^^^^^^^^^\n",
      "  File \"/opt/anaconda3/lib/python3.11/site-packages/dtale/column_analysis.py\", line 141, in build\n",
      "    return_data, code = self.analysis.build(self)\n",
      "                        ^^^^^^^^^^^^^^^^^^^^^^^^^\n",
      "  File \"/opt/anaconda3/lib/python3.11/site-packages/dtale/column_analysis.py\", line 457, in build\n",
      "    hist = self.build_hist(s, code)\n",
      "           ^^^^^^^^^^^^^^^^^^^^^^^^\n",
      "  File \"/opt/anaconda3/lib/python3.11/site-packages/dtale/column_analysis.py\", line 511, in build_hist\n",
      "    pd.value_counts(s.str.split(expand=True).stack())\n",
      "                    ^^^^^\n",
      "  File \"/opt/anaconda3/lib/python3.11/site-packages/pandas/core/generic.py\", line 6204, in __getattr__\n",
      "    return object.__getattribute__(self, name)\n",
      "           ^^^^^^^^^^^^^^^^^^^^^^^^^^^^^^^^^^^\n",
      "  File \"/opt/anaconda3/lib/python3.11/site-packages/pandas/core/accessor.py\", line 224, in __get__\n",
      "    accessor_obj = self._accessor(obj)\n",
      "                   ^^^^^^^^^^^^^^^^^^^\n",
      "  File \"/opt/anaconda3/lib/python3.11/site-packages/pandas/core/strings/accessor.py\", line 190, in __init__\n",
      "    self._inferred_dtype = self._validate(data)\n",
      "                           ^^^^^^^^^^^^^^^^^^^^\n",
      "  File \"/opt/anaconda3/lib/python3.11/site-packages/pandas/core/strings/accessor.py\", line 244, in _validate\n",
      "    raise AttributeError(\"Can only use .str accessor with string values!\")\n",
      "AttributeError: Can only use .str accessor with string values!\n",
      "2024-04-21 01:02:52,845 - ERROR    - Exception occurred while processing request: ufunc 'isfinite' not supported for the input types, and the inputs could not be safely coerced to any supported types according to the casting rule ''safe''\n",
      "Traceback (most recent call last):\n",
      "  File \"/opt/anaconda3/lib/python3.11/site-packages/dtale/views.py\", line 119, in _handle_exceptions\n",
      "    return func(*args, **kwargs)\n",
      "           ^^^^^^^^^^^^^^^^^^^^^\n",
      "  File \"/opt/anaconda3/lib/python3.11/site-packages/dtale/views.py\", line 3135, in get_column_analysis\n",
      "    return jsonify(**analysis.build())\n",
      "                     ^^^^^^^^^^^^^^^^\n",
      "  File \"/opt/anaconda3/lib/python3.11/site-packages/dtale/column_analysis.py\", line 141, in build\n",
      "    return_data, code = self.analysis.build(self)\n",
      "                        ^^^^^^^^^^^^^^^^^^^^^^^^^\n",
      "  File \"/opt/anaconda3/lib/python3.11/site-packages/dtale/column_analysis.py\", line 185, in build\n",
      "    return_data, hist_labels = self.build_histogram_data(\n",
      "                               ^^^^^^^^^^^^^^^^^^^^^^^^^^\n",
      "  File \"/opt/anaconda3/lib/python3.11/site-packages/dtale/column_analysis.py\", line 161, in build_histogram_data\n",
      "    hist_data, hist_labels = np.histogram(series, **hist_kwargs)\n",
      "                             ^^^^^^^^^^^^^^^^^^^^^^^^^^^^^^^^^^^\n",
      "  File \"/opt/anaconda3/lib/python3.11/site-packages/numpy/lib/histograms.py\", line 780, in histogram\n",
      "    bin_edges, uniform_bins = _get_bin_edges(a, bins, range, weights)\n",
      "                              ^^^^^^^^^^^^^^^^^^^^^^^^^^^^^^^^^^^^^^^\n",
      "  File \"/opt/anaconda3/lib/python3.11/site-packages/numpy/lib/histograms.py\", line 426, in _get_bin_edges\n",
      "    first_edge, last_edge = _get_outer_edges(a, range)\n",
      "                            ^^^^^^^^^^^^^^^^^^^^^^^^^^\n",
      "  File \"/opt/anaconda3/lib/python3.11/site-packages/numpy/lib/histograms.py\", line 322, in _get_outer_edges\n",
      "    if not (np.isfinite(first_edge) and np.isfinite(last_edge)):\n",
      "            ^^^^^^^^^^^^^^^^^^^^^^^\n",
      "TypeError: ufunc 'isfinite' not supported for the input types, and the inputs could not be safely coerced to any supported types according to the casting rule ''safe''\n"
     ]
    }
   ],
   "source": [
    "# Dataset: datos_tarjetas\n",
    "\n",
    "tarjetas = dt.show(df_tarjetas)\n",
    "tarjetas.open_browser()"
   ]
  },
  {
   "cell_type": "markdown",
   "metadata": {},
   "source": [
    "----\n",
    "\n",
    "##### Gráficos de interés"
   ]
  },
  {
   "cell_type": "code",
   "execution_count": 9,
   "metadata": {},
   "outputs": [
    {
     "data": {
      "image/png": "[encoded data removed]",
      "text/plain": [
       "<Figure size 700x500 with 1 Axes>"
      ]
     },
     "metadata": {},
     "output_type": "display_data"
    },
    {
     "name": "stderr",
     "output_type": "stream",
     "text": [
      "2024-04-21 01:12:25,559 - ERROR    - Exception occurred while processing request: agg function failed [how->mean,dtype->object]\n",
      "Traceback (most recent call last):\n",
      "  File \"/opt/anaconda3/lib/python3.11/site-packages/pandas/core/groupby/groupby.py\", line 1874, in _agg_py_fallback\n",
      "    res_values = self.grouper.agg_series(ser, alt, preserve_dtype=True)\n",
      "                 ^^^^^^^^^^^^^^^^^^^^^^^^^^^^^^^^^^^^^^^^^^^^^^^^^^^^^^\n",
      "  File \"/opt/anaconda3/lib/python3.11/site-packages/pandas/core/groupby/ops.py\", line 849, in agg_series\n",
      "    result = self._aggregate_series_pure_python(obj, func)\n",
      "             ^^^^^^^^^^^^^^^^^^^^^^^^^^^^^^^^^^^^^^^^^^^^^\n",
      "  File \"/opt/anaconda3/lib/python3.11/site-packages/pandas/core/groupby/ops.py\", line 877, in _aggregate_series_pure_python\n",
      "    res = func(group)\n",
      "          ^^^^^^^^^^^\n",
      "  File \"/opt/anaconda3/lib/python3.11/site-packages/pandas/core/groupby/groupby.py\", line 2380, in <lambda>\n",
      "    alt=lambda x: Series(x).mean(numeric_only=numeric_only),\n",
      "                  ^^^^^^^^^^^^^^^^^^^^^^^^^^^^^^^^^^^^^^^^^\n",
      "  File \"/opt/anaconda3/lib/python3.11/site-packages/pandas/core/series.py\", line 6225, in mean\n",
      "    return NDFrame.mean(self, axis, skipna, numeric_only, **kwargs)\n",
      "           ^^^^^^^^^^^^^^^^^^^^^^^^^^^^^^^^^^^^^^^^^^^^^^^^^^^^^^^^\n",
      "  File \"/opt/anaconda3/lib/python3.11/site-packages/pandas/core/generic.py\", line 11992, in mean\n",
      "    return self._stat_function(\n",
      "           ^^^^^^^^^^^^^^^^^^^^\n",
      "  File \"/opt/anaconda3/lib/python3.11/site-packages/pandas/core/generic.py\", line 11949, in _stat_function\n",
      "    return self._reduce(\n",
      "           ^^^^^^^^^^^^^\n",
      "  File \"/opt/anaconda3/lib/python3.11/site-packages/pandas/core/series.py\", line 6133, in _reduce\n",
      "    return op(delegate, skipna=skipna, **kwds)\n",
      "           ^^^^^^^^^^^^^^^^^^^^^^^^^^^^^^^^^^^\n",
      "  File \"/opt/anaconda3/lib/python3.11/site-packages/pandas/core/nanops.py\", line 147, in f\n",
      "    result = alt(values, axis=axis, skipna=skipna, **kwds)\n",
      "             ^^^^^^^^^^^^^^^^^^^^^^^^^^^^^^^^^^^^^^^^^^^^^\n",
      "  File \"/opt/anaconda3/lib/python3.11/site-packages/pandas/core/nanops.py\", line 404, in new_func\n",
      "    result = func(values, axis=axis, skipna=skipna, mask=mask, **kwargs)\n",
      "             ^^^^^^^^^^^^^^^^^^^^^^^^^^^^^^^^^^^^^^^^^^^^^^^^^^^^^^^^^^^\n",
      "  File \"/opt/anaconda3/lib/python3.11/site-packages/pandas/core/nanops.py\", line 720, in nanmean\n",
      "    the_sum = _ensure_numeric(the_sum)\n",
      "              ^^^^^^^^^^^^^^^^^^^^^^^^\n",
      "  File \"/opt/anaconda3/lib/python3.11/site-packages/pandas/core/nanops.py\", line 1693, in _ensure_numeric\n",
      "    raise TypeError(f\"Could not convert string '{x}' to numeric\")\n",
      "TypeError: Could not convert string 'CASADOCASADOCASADOCASADOCASADOCASADOCASADOCASADOCASADOCASADOCASADOCASADOCASADOCASADOCASADOCASADOCASADOCASADOCASADOCASADOCASADOCASADOCASADOCASADOCASADOCASADOCASADOCASADOCASADOCASADOCASADOCASADOCASADOCASADOCASADOCASADOCASADOCASADOCASADOCASADOCASADOCASADOCASADOCASADOCASADOCASADOCASADOCASADOCASADOCASADOCASADOCASADOCASADOCASADOCASADOCASADOCASADOCASADOCASADOCASADOCASADOCASADOCASADOCASADOCASADOCASADOCASADOCASADOCASADOCASADOCASADOCASADOCASADOCASADOCASADOCASADOCASADOCASADOCASADOCASADOCASADOCASADOCASADOCASADOCASADOCASADOCASADOCASADOCASADOCASADOCASADOCASADOCASADOCASADOCASADOCASADOCASADOCASADOCASADOCASADOCASADOCASADOCASADOCASADOCASADOCASADOCASADOCASADOCASADOCASADOCASADOCASADOCASADOCASADOCASADOCASADOCASADOCASADOCASADOCASADOCASADOCASADOCASADOCASADOCASADOCASADOCASADOCASADOCASADOCASADOCASADOCASADOCASADOCASADOCASADOCASADOCASADOCASADOCASADOCASADOCASADOCASADOCASADOCASADOCASADOCASADOCASADOCASADOCASADOCASADOCASADOCASADOCASADOCASADOCASADOCASADOCASADOCASADOCASADOCASADOCASADOCASADOCASADOCASADOCASADOCASADOCASADOCASADOCASADOCASADOCASADOCASADOCASADOCASADOCASADOCASADOCASADOCASADOCASADOCASADOCASADOCASADOCASADOCASADOCASADOCASADOCASADOCASADOCASADOCASADOCASADOCASADOCASADOCASADOCASADOCASADOCASADOCASADOCASADOCASADOCASADOCASADOCASADOCASADOCASADOCASADOCASADOCASADOCASADOCASADOCASADOCASADOCASADOCASADOCASADOCASADOCASADOCASADOCASADOCASADOCASADOCASADOCASADOCASADOCASADOCASADOCASADOCASADOCASADOCASADOCASADOCASADOCASADOCASADOCASADOCASADOCASADOCASADOCASADOCASADOCASADOCASADOCASADOCASADOCASADOCASADOCASADOCASADOCASADOCASADOCASADOCASADOCASADOCASADOCASADOCASADOCASADOCASADOCASADOCASADOCASADOCASADOCASADOCASADOCASADOCASADOCASADOCASADOCASADOCASADOCASADOCASADOCASADOCASADOCASADOCASADOCASADOCASADOCASADOCASADOCASADOCASADOCASADOCASADOCASADOCASADOCASADOCASADOCASADOCASADOCASADOCASADOCASADOCASADOCASADOCASADOCASADOCASADOCASADOCASADOCASADOCASADOCASADOCASADOCASADOCASADOCASADOCASADOCASADOCASADOCASADOCASADOCASADOCASADOCASADOCASADOCASADOCASADOCASADOCASADOCASADOCASADOCASADOCASADOCASADOCASADOCASADOCASADOCASADOCASADOCASADOCASADOCASADOCASADOCASADOCASADOCASADOCASADOCASADOCASADOCASADOCASADOCASADOCASADOCASADOCASADOCASADOCASADOCASADOCASADOCASADOCASADOCASADOCASADOCASADOCASADOCASADOCASADOCASADOCASADOCASADOCASADOCASADOCASADOCASADOCASADOCASADOCASADOCASADOCASADOCASADOCASADOCASADOCASADOCASADOCASADOCASADOCASADOCASADOCASADOCASADOCASADOCASADOCASADOCASADOCASADOCASADOCASADOCASADOCASADOCASADOCASADOCASADOCASADOCASADOCASADOCASADOCASADOCASADOCASADOCASADOCASADOCASADOCASADOCASADOCASADOCASADOCASADOCASADOCASADOCASADOCASADOCASADOCASADOCASADOCASADOCASADOCASADOCASADOCASADOCASADOCASADOCASADOCASADOCASADOCASADOCASADOCASADOCASADOCASADOCASADOCASADOCASADOCASADOCASADOCASADOCASADOCASADOCASADOCASADOCASADOCASADOCASADOCASADOCASADOCASADOCASADOCASADOCASADOCASADOCASADOCASADOCASADOCASADOCASADOCASADOCASADOCASADOCASADOCASADOCASADOCASADOCASADOCASADOCASADOCASADOCASADOCASADOCASADOCASADOCASADOCASADOCASADOCASADOCASADOCASADOCASADOCASADOCASADOCASADOCASADOCASADOCASADOCASADOCASADOCASADOCASADOCASADOCASADOCASADOCASADOCASADOCASADOCASADOCASADOCASADOCASADOCASADOCASADOCASADOCASADOCASADOCASADOCASADOCASADOCASADOCASADOCASADOCASADOCASADOCASADOCASADOCASADOCASADOCASADOCASADOCASADOCASADOCASADOCASADOCASADOCASADOCASADOCASADOCASADOCASADOCASADOCASADOCASADOCASADOCASADOCASADOCASADOCASADOCASADOCASADOCASADOCASADOCASADOCASADOCASADOCASADOCASADOCASADOCASADOCASADOCASADOCASADOCASADOCASADOCASADOCASADOCASADOCASADOCASADOCASADOCASADOCASADOCASADOCASADOCASADOCASADOCASADOCASADOCASADOCASADOCASADOCASADOCASADOCASADOCASADOCASADOCASADOCASADOCASADOCASADOCASADOCASADOCASADOCASADOCASADOCASADOCASADOCASADOCASADOCASADOCASADOCASADOCASADOCASADOCASADOCASADOCASADOCASADOCASADOCASADOCASADOCASADOCASADOCASADOCASADOCASADOCASADOCASADOCASADOCASADOCASADOCASADOCASADOCASADOCASADOCASADOCASADOCASADOCASADOCASADOCASADOCASADOCASADOCASADOCASADOCASADOCASADOCASADOCASADOCASADOCASADOCASADOCASADOCASADOCASADOCASADOCASADOCASADOCASADOCASADOCASADOCASADOCASADOCASADOCASADOCASADOCASADOCASADOCASADOCASADOCASADOCASADOCASADOCASADOCASADOCASADOCASADOCASADOCASADOCASADOCASADOCASADOCASADOCASADOCASADOCASADOCASADOCASADOCASADOCASADOCASADOCASADOCASADOCASADOCASADOCASADOCASADOCASADOCASADOCASADOCASADOCASADOCASADOCASADOCASADOCASADOCASADOCASADOCASADOCASADOCASADOCASADOCASADOCASADOCASADOCASADOCASADOCASADOCASADOCASADOCASADOCASADOCASADOCASADOCASADOCASADOCASADOCASADOCASADOCASADOCASADOCASADOCASADOCASADOCASADOCASADOCASADOCASADOCASADOCASADOCASADOCASADOCASADOCASADOCASADOCASADOCASADOCASADOCASADOCASADOCASADOCASADOCASADOCASADOCASADOCASADOCASADOCASADOCASADOCASADOCASADOCASADOCASADOCASADOCASADOCASADOCASADOCASADOCASADOCASADOCASADOCASADOCASADOCASADOCASADOCASADOCASADOCASADOCASADOCASADOCASADOCASADOCASADOCASADOCASADOCASADOCASADOCASADOCASADOCASADOCASADOCASADOCASADOCASADOCASADOCASADOCASADOCASADOCASADOCASADOCASADOCASADOCASADOCASADOCASADOCASADOCASADOCASADOCASADOCASADOCASADOCASADOCASADOCASADOCASADOCASADOCASADOCASADOCASADOCASADOCASADOCASADOCASADOCASADOCASADOCASADOCASADOCASADOCASADOCASADOCASADOCASADOCASADOCASADOCASADOCASADOCASADOCASADOCASADOCASADOCASADOCASADOCASADOCASADOCASADOCASADOCASADOCASADOCASADOCASADOCASADOCASADOCASADOCASADOCASADOCASADOCASADOCASADOCASADOCASADOCASADOCASADOCASADOCASADOCASADOCASADOCASADOCASADOCASADOCASADOCASADOCASADOCASADOCASADOCASADOCASADOCASADOCASADOCASADOCASADOCASADOCASADOCASADOCASADOCASADOCASADOCASADOCASADOCASADOCASADOCASADOCASADOCASADOCASADOCASADOCASADOCASADOCASADOCASADOCASADOCASADOCASADOCASADOCASADOCASADOCASADOCASADOCASADOCASADOCASADOCASADOCASADOCASADOCASADOCASADOCASADOCASADOCASADOCASADOCASADOCASADOCASADOCASADOCASADOCASADOCASADOCASADOCASADOCASADOCASADOCASADOCASADOCASADOCASADOCASADOCASADOCASADOCASADOCASADOCASADOCASADOCASADOCASADOCASADOCASADOCASADOCASADOCASADOCASADOCASADOCASADOCASADOCASADOCASADOCASADOCASADOCASADOCASADOCASADOCASADOCASADOCASADOCASADOCASADOCASADOCASADOCASADOCASADOCASADOCASADOCASADOCASADOCASADOCASADOCASADOCASADOCASADOCASADOCASADOCASADOCASADOCASADOCASADOCASADOCASADOCASADOCASADOCASADOCASADOCASADOCASADOCASADOCASADOCASADOCASADOCASADOCASADOCASADOCASADOCASADOCASADOCASADOCASADOCASADOCASADOCASADOCASADOCASADOCASADOCASADOCASADOCASADOCASADOCASADOCASADOCASADOCASADOCASADOCASADOCASADOCASADOCASADOCASADOCASADOCASADOCASADOCASADOCASADOCASADOCASADOCASADOCASADOCASADOCASADOCASADOCASADOCASADOCASADOCASADOCASADOCASADOCASADOCASADOCASADOCASADOCASADOCASADOCASADOCASADOCASADOCASADOCASADOCASADOCASADOCASADOCASADOCASADOCASADOCASADOCASADOCASADOCASADOCASADOCASADOCASADOCASADOCASADOCASADOCASADOCASADOCASADOCASADOCASADOCASADOCASADOCASADOCASADOCASADOCASADOCASADOCASADOCASADOCASADOCASADOCASADOCASADOCASADOCASADOCASADOCASADOCASADOCASADOCASADOCASADOCASADOCASADOCASADOCASADOCASADOCASADOCASADOCASADOCASADOCASADOCASADOCASADOCASADOCASADOCASADOCASADOCASADOCASADOCASADOCASADOCASADOCASADOCASADOCASADOCASADOCASADOCASADOCASADOCASADOCASADOCASADOCASADOCASADOCASADOCASADOCASADOCASADOCASADOCASADOCASADOCASADOCASADOCASADOCASADOCASADOCASADOCASADOCASADOCASADOCASADOCASADOCASADOCASADOCASADOCASADOCASADOCASADOCASADOCASADOCASADOCASADOCASADOCASADOCASADOCASADOCASADOCASADOCASADOCASADOCASADOCASADOCASADOCASADOCASADOCASADOCASADOCASADOCASADOCASADOCASADOCASADOCASADOCASADOCASADOCASADOCASADOCASADOCASADOCASADOCASADOCASADOCASADOCASADOCASADOCASADOCASADOCASADOCASADOCASADOCASADOCASADOCASADOCASADOCASADOCASADOCASADOCASADOCASADOCASADOCASADOCASADOCASADOCASADOCASADOCASADOCASADOCASADOCASADOCASADOCASADOCASADOCASADOCASADOCASADOCASADOCASADOCASADOCASADOCASADOCASADOCASADOCASADOCASADOCASADOCASADOCASADOCASADOCASADOCASADOCASADOCASADOCASADOCASADOCASADOCASADOCASADOCASADOCASADOCASADOCASADOCASADOCASADOCASADOCASADOCASADOCASADOCASADOCASADOCASADOCASADOCASADOCASADOCASADOCASADOCASADOCASADOCASADOCASADOCASADOCASADOCASADOCASADOCASADOCASADOCASADOCASADOCASADOCASADOCASADOCASADOCASADOCASADOCASADOCASADOCASADOCASADOCASADOCASADOCASADOCASADOCASADOCASADOCASADOCASADOCASADOCASADOCASADOCASADOCASADOCASADOCASADOCASADOCASADOCASADOCASADOCASADOCASADOCASADOCASADOCASADOCASADOCASADOCASADOCASADOCASADOCASADOCASADOCASADOCASADOCASADOCASADOCASADOCASADOCASADOCASADOCASADOCASADOCASADOCASADOCASADOCASADOCASADOCASADOCASADOCASADOCASADOCASADOCASADOCASADOCASADOCASADOCASADOCASADOCASADOCASADOCASADOCASADOCASADOCASADOCASADOCASADOCASADOCASADOCASADOCASADOCASADOCASADOCASADOCASADOCASADOCASADOCASADOCASADOCASADOCASADOCASADOCASADOCASADOCASADOCASADOCASADOCASADOCASADOCASADOCASADOCASADOCASADOCASADOCASADOCASADOCASADOCASADOCASADOCASADOCASADOCASADOCASADOCASADOCASADOCASADOCASADOCASADOCASADOCASADOCASADOCASADOCASADOCASADOCASADOCASADOCASADOCASADOCASADOCASADOCASADOCASADOCASADOCASADOCASADOCASADOCASADOCASADOCASADOCASADOCASADOCASADOCASADOCASADOCASADOCASADOCASADOCASADOCASADOCASADOCASADOCASADOCASADOCASADOCASADOCASADOCASADOCASADOCASADOCASADOCASADOCASADOCASADOCASADOCASADOCASADOCASADOCASADOCASADOCASADOCASADOCASADOCASADOCASADOCASADOCASADOCASADOCASADOCASADOCASADOCASADOCASADOCASADOCASADOCASADOCASADOCASADOCASADOCASADOCASADOCASADOCASADOCASADOCASADOCASADOCASADOCASADOCASADOCASADOCASADOCASADOCASADOCASADOCASADOCASADOCASADOCASADOCASADOCASADOCASADOCASADOCASADOCASADOCASADOCASADOCASADOCASADOCASADOCASADOCASADOCASADOCASADOCASADOCASADOCASADOCASADOCASADOCASADOCASADOCASADOCASADOCASADOCASADOCASADOCASADOCASADOCASADOCASADOCASADOCASADOCASADOCASADOCASADOCASADOCASADOCASADOCASADOCASADOCASADOCASADOCASADOCASADOCASADOCASADOCASADOCASADOCASADOCASADOCASADOCASADOCASADOCASADOCASADOCASADOCASADOCASADOCASADOCASADOCASADOCASADOCASADOCASADOCASADOCASADOCASADOCASADOCASADOCASADOCASADOCASADOCASADOCASADOCASADOCASADOCASADOCASADOCASADOCASADOCASADOCASADOCASADOCASADOCASADOCASADOCASADOCASADOCASADOCASADOCASADOCASADOCASADOCASADOCASADOCASADOCASADOCASADOCASADOCASADOCASADOCASADOCASADOCASADOCASADOCASADOCASADOCASADOCASADOCASADOCASADOCASADOCASADOCASADOCASADOCASADOCASADOCASADOCASADOCASADOCASADOCASADOCASADOCASADOCASADOCASADOCASADOCASADOCASADOCASADOCASADOCASADOCASADOCASADOCASADOCASADOCASADOCASADOCASADOCASADOCASADOCASADOCASADOCASADOCASADOCASADOCASADOCASADOCASADOCASADOCASADOCASADOCASADOCASADOCASADOCASADOCASADOCASADOCASADOCASADOCASADOCASADOCASADOCASADOCASADOCASADOCASADOCASADOCASADOCASADOCASADOCASADOCASADOCASADOCASADOCASADOCASADOCASADOCASADOCASADOCASADOCASADOCASADOCASADOCASADOCASADOCASADOCASADOCASADOCASADOCASADOCASADOCASADOCASADOCASADOCASADOCASADOCASADOCASADOCASADOCASADOCASADOCASADOCASADOCASADOCASADOCASADOCASADOCASADOCASADOCASADOCASADOCASADOCASADOCASADOCASADOCASADOCASADOCASADOCASADOCASADOCASADOCASADOCASADOCASADOCASADOCASADOCASADOCASADOCASADOCASADOCASADOCASADOCASADOCASADOCASADOCASADOCASADOCASADOCASADOCASADOCASADOCASADOCASADOCASADOCASADOCASADOCASADOCASADOCASADOCASADOCASADOCASADOCASADOCASADOCASADOCASADOCASADOCASADOCASADOCASADOCASADOCASADOCASADOCASADOCASADOCASADOCASADOCASADOCASADOCASADOCASADOCASADOCASADOCASADOCASADOCASADOCASADOCASADOCASADOCASADOCASADOCASADOCASADOCASADOCASADOCASADOCASADOCASADOCASADOCASADOCASADOCASADOCASADOCASADOCASADOCASADOCASADOCASADOCASADOCASADOCASADOCASADOCASADOCASADOCASADOCASADOCASADOCASADOCASADOCASADOCASADOCASADOCASADOCASADOCASADOCASADOCASADOCASADOCASADOCASADOCASADOCASADOCASADOCASADOCASADOCASADOCASADOCASADOCASADOCASADOCASADOCASADOCASADOCASADOCASADOCASADOCASADOCASADOCASADOCASADOCASADOCASADOCASADOCASADOCASADOCASADOCASADOCASADOCASADOCASADOCASADOCASADOCASADOCASADOCASADOCASADOCASADOCASADOCASADOCASADOCASADOCASADOCASADOCASADOCASADOCASADOCASADOCASADOCASADOCASADOCASADOCASADOCASADOCASADOCASADOCASADOCASADOCASADOCASADOCASADOCASADOCASADOCASADOCASADOCASADOCASADOCASADOCASADOCASADOCASADOCASADOCASADOCASADOCASADOCASADOCASADOCASADOCASADOCASADOCASADOCASADOCASADOCASADOCASADOCASADOCASADOCASADOCASADOCASADOCASADOCASADOCASADOCASADOCASADOCASADOCASADOCASADOCASADOCASADOCASADOCASADOCASADOCASADOCASADOCASADOCASADOCASADOCASADOCASADOCASADOCASADOCASADOCASADOCASADOCASADOCASADOCASADOCASADOCASADOCASADOCASADOCASADOCASADOCASADOCASADOCASADOCASADOCASADOCASADOCASADOCASADOCASADOCASADOCASADOCASADOCASADOCASADOCASADOCASADOCASADOCASADOCASADOCASADOCASADOCASADOCASADOCASADOCASADOCASADOCASADOCASADOCASADOCASADOCASADOCASADOCASADOCASADOCASADOCASADOCASADOCASADOCASADOCASADOCASADOCASADOCASADOCASADOCASADOCASADOCASADOCASADOCASADOCASADOCASADOCASADOCASADOCASADOCASADOCASADOCASADOCASADOCASADOCASADOCASADOCASADOCASADOCASADOCASADOCASADOCASADOCASADOCASADOCASADOCASADOCASADOCASADOCASADOCASADOCASADOCASADOCASADOCASADOCASADOCASADOCASADOCASADOCASADOCASADOCASADOCASADOCASADOCASADOCASADOCASADOCASADOCASADOCASADOCASADOCASADOCASADOCASADOCASADOCASADOCASADOCASADOCASADOCASADOCASADOCASADOCASADOCASADOCASADOCASADOCASADOCASADOCASADOCASADOCASADOCASADOCASADOCASADOCASADOCASADOCASADOCASADOCASADOCASADOCASADOCASADOCASADOCASADOCASADOCASADOCASADOCASADOCASADOCASADOCASADOCASADOCASADOCASADOCASADOCASADOCASADOCASADOCASADOCASADOCASADOCASADOCASADOCASADOCASADOCASADOCASADOCASADOCASADOCASADOCASADOCASADOCASADOCASADOCASADOCASADOCASADOCASADOCASADOCASADOCASADOCASADOCASADOCASADOCASADOCASADOCASADOCASADOCASADOCASADOCASADOCASADOCASADOCASADOCASADOCASADOCASADOCASADOCASADOCASADOCASADOCASADOCASADOCASADOCASADOCASADOCASADOCASADOCASADOCASADOCASADOCASADOCASADOCASADOCASADOCASADOCASADOCASADOCASADOCASADOCASADOCASADOCASADOCASADOCASADOCASADOCASADOCASADOCASADOCASADOCASADOCASADOCASADOCASADOCASADOCASADOCASADOCASADOCASADOCASADOCASADOCASADOCASADOCASADOCASADOCASADOCASADOCASADOCASADOCASADOCASADOCASADOCASADOCASADOCASADOCASADOCASADOCASADOCASADOCASADOCASADOCASADOCASADOCASADOCASADOCASADOCASADOCASADOCASADOCASADOCASADOCASADOCASADOCASADOCASADOCASADOCASADOCASADOCASADOCASADOCASADOCASADOCASADOCASADOCASADOCASADOCASADOCASADOCASADOCASADOCASADOCASADOCASADOCASADOCASADOCASADOCASADOCASADOCASADOCASADOCASADOCASADOCASADOCASADOCASADOCASADOCASADOCASADOCASADOCASADOCASADOCASADOCASADOCASADOCASADOCASADOCASADOCASADOCASADOCASADOCASADOCASADOCASADOCASADOCASADOCASADOCASADOCASADOCASADOCASADOCASADOCASADOCASADOCASADOCASADOCASADOCASADOCASADOCASADOCASADOCASADOCASADOCASADOCASADOCASADOCASADOCASADOCASADOCASADOCASADOCASADOCASADOCASADOCASADOCASADOCASADOCASADOCASADOCASADOCASADOCASADOCASADOCASADOCASADOCASADOCASADOCASADOCASADOCASADOCASADOCASADOCASADOCASADOCASADOCASADOCASADOCASADOCASADOCASADOCASADOCASADOCASADOCASADOCASADOCASADOCASADOCASADOCASADOCASADOCASADOCASADOCASADOCASADOCASADOCASADOCASADOCASADOCASADOCASADOCASADOCASADOCASADOCASADOCASADOCASADOCASADOCASADOCASADOCASADOCASADOCASADOCASADOCASADOCASADOCASADOCASADOCASADOCASADOCASADOCASADOCASADOCASADOCASADOCASADOCASADOCASADOCASADOCASADOCASADOCASADOCASADOCASADOCASADOCASADOCASADOCASADOCASADOCASADOCASADOCASADOCASADOCASADOCASADOCASADOCASADOCASADOCASADOCASADOCASADOCASADOCASADOCASADOCASADOCASADOCASADOCASADOCASADOCASADOCASADOCASADOCASADOCASADOCASADOCASADOCASADOCASADOCASADOCASADOCASADOCASADOCASADOCASADOCASADOCASADOCASADOCASADOCASADOCASADOCASADOCASADOCASADOCASADOCASADOCASADOCASADOCASADOCASADOCASADOCASADOCASADOCASADOCASADOCASADOCASADOCASADOCASADOCASADOCASADOCASADOCASADOCASADOCASADOCASADOCASADOCASADOCASADOCASADOCASADOCASADOCASADOCASADOCASADOCASADOCASADOCASADOCASADOCASADOCASADOCASADOCASADOCASADOCASADOCASADOCASADOCASADOCASADOCASADOCASADOCASADOCASADOCASADOCASADOCASADOCASADOCASADOCASADOCASADOCASADOCASADOCASADOCASADOCASADOCASADOCASADOCASADOCASADOCASADOCASADOCASADOCASADOCASADOCASADOCASADOCASADOCASADOCASADOCASADOCASADOCASADOCASADOCASADOCASADOCASADOCASADOCASADOCASADOCASADOCASADOCASADOCASADOCASADOCASADOCASADOCASADOCASADOCASADOCASADOCASADOCASADOCASADOCASADOCASADOCASADOCASADOCASADOCASADOCASADOCASADOCASADOCASADOCASADOCASADOCASADOCASADOCASADOCASADOCASADOCASADOCASADOCASADOCASADOCASADOCASADOCASADOCASADOCASADOCASADOCASADOCASADOCASADOCASADOCASADOCASADOCASADOCASADOCASADOCASADOCASADOCASADOCASADOCASADOCASADOCASADOCASADOCASADOCASADOCASADOCASADOCASADOCASADOCASADOCASADOCASADOCASADOCASADOCASADOCASADOCASADOCASADOCASADOCASADOCASADOCASADOCASADOCASADOCASADOCASADOCASADOCASADOCASADOCASADOCASADOCASADOCASADOCASADOCASADOCASADOCASADOCASADOCASADOCASADOCASADOCASADOCASADOCASADOCASADOCASADOCASADOCASADOCASADOCASADOCASADOCASADOCASADOCASADOCASADOCASADOCASADOCASADOCASADOCASADOCASADOCASADOCASADOCASADOCASADOCASADOCASADOCASADOCASADOCASADOCASADOCASADOCASADOCASADOCASADOCASADOCASADOCASADOCASADOCASADOCASADOCASADOCASADOCASADOCASADOCASADOCASADOCASADOCASADOCASADOCASADOCASADOCASADOCASADOCASADOCASADOCASADOCASADOCASADOCASADOCASADOCASADOCASADOCASADOCASADOCASADOCASADOCASADOCASADOCASADOCASADOCASADOCASADOCASADOCASADOCASADOCASADOCASADOCASADOCASADOCASADOCASADOCASADOCASADOCASADOCASADOCASADOCASADOCASADOCASADOCASADOCASADOCASADOCASADOCASADOCASADOCASADOCASADOCASADOCASADOCASADOCASADOCASADOCASADOCASADOCASADOCASADOCASADOCASADOCASADOCASADOCASADOCASADOCASADOCASADOCASADOCASADOCASADOCASADOCASADOCASADOCASADOCASADOCASADOCASADOCASADOCASADOCASADOCASADOCASADOCASADOCASADOCASADOCASADOCASADOCASADOCASADOCASADOCASADOCASADOCASADOCASADOCASADOCASADOCASADOCASADOCASADOCASADOCASADOCASADOCASADOCASADOCASADOCASADOCASADOCASADOCASADOCASADOCASADOCASADOCASADOCASADOCASADOCASADOCASADOCASADOCASADOCASADOCASADOCASADOCASADOCASADOCASADOCASADOCASADOCASADOCASADOCASADOCASADOCASADOCASADOCASADOCASADOCASADOCASADOCASADOCASADOCASADOCASADOCASADOCASADOCASADOCASADOCASADOCASADOCASADOCASADOCASADOCASADOCASADOCASADOCASADOCASADOCASADOCASADOCASADOCASADOCASADOCASADOCASADOCASADOCASADOCASADOCASADOCASADOCASADOCASADOCASADOCASADOCASADOCASADOCASADOCASADOCASADOCASADOCASADOCASADOCASADOCASADOCASADOCASADOCASADOCASADOCASADOCASADOCASADOCASADOCASADOCASADOCASADOCASADOCASADOCASADOCASADOCASADOCASADOCASADOCASADOCASADOCASADOCASADOCASADOCASADOCASADOCASADOCASADOCASADOCASADOCASADOCASADOCASADOCASADOCASADOCASADOCASADOCASADOCASADOCASADOCASADOCASADOCASADOCASADOCASADOCASADOCASADOCASADOCASADOCASADOCASADOCASADOCASADOCASADOCASADOCASADOCASADOCASADOCASADOCASADOCASADOCASADOCASADOCASADOCASADOCASADOCASADOCASADOCASADOCASADOCASADOCASADOCASADOCASADOCASADOCASADOCASADOCASADOCASADOCASADOCASADOCASADOCASADOCASADOCASADOCASADOCASADOCASADOCASADOCASADOCASADOCASADOCASADOCASADOCASADOCASADOCASADOCASADOCASADOCASADOCASADOCASADOCASADOCASADOCASADOCASADOCASADOCASADOCASADOCASADOCASADOCASADOCASADOCASADOCASADOCASADOCASADOCASADOCASADOCASADOCASADOCASADOCASADOCASADOCASADOCASADOCASADOCASADOCASADOCASADOCASADOCASADOCASADOCASADOCASADOCASADOCASADOCASADOCASADOCASADOCASADOCASADOCASADOCASADOCASADOCASADOCASADOCASADOCASADOCASADOCASADOCASADOCASADOCASADOCASADOCASADOCASADOCASADOCASADOCASADOCASADOCASADOCASADOCASADOCASADOCASADOCASADOCASADOCASADOCASADOCASADOCASADOCASADOCASADOCASADOCASADOCASADOCASADOCASADOCASADOCASADOCASADOCASADOCASADOCASADOCASADOCASADOCASADOCASADOCASADOCASADOCASADOCASADOCASADOCASADOCASADOCASADOCASADOCASADOCASADOCASADOCASADOCASADOCASADOCASADOCASADOCASADOCASADOCASADOCASADOCASADOCASADOCASADOCASADOCASADOCASADOCASADOCASADOCASADOCASADOCASADOCASADOCASADOCASADOCASADOCASADOCASADOCASADOCASADOCASADOCASADOCASADOCASADOCASADOCASADOCASADOCASADOCASADOCASADOCASADOCASADOCASADOCASADOCASADOCASADOCASADOCASADOCASADOCASADOCASADOCASADOCASADOCASADOCASADOCASADOCASADOCASADOCASADOCASADOCASADOCASADOCASADOCASADOCASADOCASADOCASADOCASADOCASADOCASADOCASADOCASADOCASADOCASADOCASADOCASADOCASADOCASADOCASADOCASADOCASADOCASADOCASADOCASADOCASADOCASADOCASADOCASADOCASADOCASADOCASADOCASADOCASADOCASADOCASADOCASADOCASADOCASADOCASADOCASADOCASADOCASADOCASADOCASADOCASADOCASADOCASADOCASADOCASADOCASADOCASADOCASADOCASADOCASADOCASADOCASADOCASADOCASADOCASADOCASADOCASADOCASADOCASADOCASADOCASADOCASADOCASADOCASADOCASADOCASADOCASADOCASADOCASADOCASADOCASADOCASADOCASADOCASADOCASADOCASADOCASADOCASADOCASADOCASADOCASADOCASADOCASADOCASADOCASADOCASADOCASADOCASADOCASADOCASADOCASADOCASADOCASADOCASADOCASADOCASADOCASADOCASADOCASADOCASADOCASADOCASADOCASADOCASADOCASADOCASADOCASADOCASADOCASADOCASADOCASADOCASADOCASADOCASADOCASADOCASADOCASADOCASADOCASADOCASADOCASADOCASADOCASADOCASADOCASADOCASADOCASADOCASADOCASADOCASADOCASADOCASADOCASADOCASADOCASADOCASADOCASADOCASADOCASADOCASADOCASADOCASADOCASADOCASADOCASADOCASADOCASADOCASADOCASADOCASADOCASADOCASADOCASADOCASADOCASADOCASADOCASADOCASADOCASADOCASADOCASADOCASADOCASADOCASADOCASADOCASADOCASADOCASADOCASADOCASADOCASADOCASADOCASADOCASADOCASADOCASADOCASADOCASADOCASADOCASADOCASADOCASADOCASADOCASADOCASADOCASADOCASADOCASADOCASADOCASADOCASADOCASADOCASADOCASADOCASADOCASADOCASADOCASADOCASADOCASADOCASADOCASADOCASADOCASADOCASADOCASADOCASADOCASADOCASADOCASADOCASADOCASADOCASADOCASADOCASADOCASADOCASADOCASADOCASADOCASADOCASADOCASADOCASADOCASADOCASADOCASADOCASADOCASADOCASADOCASADOCASADOCASADOCASADOCASADOCASADOCASADOCASADOCASADOCASADOCASADOCASADOCASADOCASADOCASADOCASADOCASADOCASADOCASADOCASADOCASADOCASADOCASADOCASADOCASADOCASADOCASADOCASADOCASADOCASADOCASADOCASADOCASADOCASADOCASADOCASADOCASADOCASADOCASADOCASADOCASADOCASADOCASADOCASADOCASADOCASADOCASADOCASADOCASADOCASADOCASADOCASADOCASADOCASADOCASADOCASADOCASADOCASADOCASADOCASADOCASADOCASADOCASADOCASADOCASADOCASADOCASADOCASADOCASADOCASADOCASADOCASADOCASADOCASADOCASADOCASADOCASADOCASADOCASADOCASADOCASADOCASADOCASADOCASADOCASADOCASADOCASADOCASADOCASADOCASADOCASADOCASADOCASADOCASADOCASADOCASADOCASADOCASADOCASADOCASADOCASADOCASADOCASADOCASADOCASADOCASADOCASADOCASADOCASADOCASADOCASADOCASADOCASADOCASADOCASADOCASADOCASADOCASADOCASADOCASADOCASADOCASADOCASADOCASADOCASADOCASADOCASADOCASADOCASADOCASADOCASADOCASADOCASADOCASADOCASADOCASADOCASADOCASADOCASADOCASADOCASADOCASADOCASADOCASADOCASADOCASADOCASADOCASADOCASADOCASADOCASADOCASADOCASADOCASADOCASADOCASADOCASADOCASADOCASADOCASADOCASADOCASADOCASADOCASADOCASADOCASADOCASADOCASADOCASADOCASADOCASADOCASADOCASADOCASADOCASADOCASADOCASADOCASADOCASADOCASADOCASADOCASADOCASADOCASADOCASADOCASADOCASADOCASADOCASADOCASADOCASADOCASADOCASADOCASADOCASADOCASADOCASADOCASADOCASADOCASADOCASADOCASADOCASADOCASADOCASADOCASADOCASADOCASADOCASADOCASADOCASADOCASADOCASADOCASADOCASADOCASADOCASADOCASADOCASADOCASADOCASADOCASADOCASADOCASADOCASADOCASADOCASADOCASADOCASADOCASADOCASADOCASADOCASADOCASADOCASADOCASADOCASADOCASADOCASADOCASADOCASADOCASADOCASADOCASADOCASADOCASADOCASADOCASADOCASADOCASADOCASADOCASADOCASADOCASADOCASADOCASADOCASADOCASADOCASADOCASADOCASADOCASADOCASADOCASADOCASADOCASADOCASADOCASADOCASADOCASADOCASADOCASADOCASADOCASADOCASADOCASADOCASADOCASADOCASADOCASADOCASADOCASADOCASADOCASADOCASADOCASADOCASADOCASADOCASADOCASADOCASADOCASADOCASADOCASADOCASADOCASADOCASADOCASADOCASADOCASADOCASADOCASADOCASADOCASADOCASADOCASADOCASADOCASADOCASADOCASADOCASADOCASADOCASADOCASADOCASADOCASADOCASADOCASADOCASADOCASADOCASADOCASADOCASADOCASADOCASADOCASADOCASADOCASADOCASADOCASADOCASADOCASADOCASADOCASADOCASADOCASADOCASADOCASADOCASADOCASADOCASADOCASADOCASADOCASADOCASADOCASADOCASADOCASADOCASADOCASADOCASADOCASADOCASADOCASADOCASADOCASADOCASADOCASADOCASADOCASADOCASADOCASADOCASADOCASADOCASADOCASADOCASADOCASADOCASADOCASADOCASADOCASADOCASADOCASADOCASADOCASADOCASADOCASADOCASADOCASADOCASADOCASADOCASADOCASADOCASADOCASADOCASADOCASADOCASADOCASADOCASADOCASADOCASADOCASADOCASADOCASADOCASADOCASADOCASADOCASADOCASADOCASADOCASADOCASADOCASADOCASADOCASADOCASADOCASADOCASADOCASADOCASADOCASADOCASADOCASADOCASADOCASADOCASADOCASADOCASADOCASADOCASADOCASADOCASADOCASADOCASADOCASADOCASADOCASADOCASADOCASADOCASADOCASADOCASADOCASADOCASADOCASADOCASADOCASADOCASADOCASADOCASADOCASADOCASADOCASADOCASADOCASADOCASADOCASADOCASADOCASADOCASADOCASADOCASADOCASADOCASADOCASADOCASADOCASADOCASADOCASADOCASADOCASADOCASADOCASADOCASADOCASADOCASADOCASADOCASADOCASADOCASADOCASADOCASADOCASADOCASADOCASADOCASADOCASADOCASADOCASADOCASADOCASADOCASADOCASADOCASADOCASADOCASADOCASADOCASADOCASADOCASADOCASADOCASADOCASADOCASADOCASADOCASADOCASADOCASADOCASADOCASADOCASADOCASADOCASADOCASADOCASADOCASADOCASADOCASADOCASADOCASADOCASADOCASADOCASADOCASADOCASADOCASADOCASADOCASADOCASADOCASADOCASADOCASADOCASADOCASADOCASADOCASADOCASADOCASADOCASADOCASADOCASADOCASADOCASADOCASADOCASADOCASADOCASADOCASADOCASADOCASADOCASADOCASADOCASADOCASADOCASADOCASADOCASADOCASADOCASADOCASADOCASADOCASADOCASADOCASADOCASADOCASADOCASADOCASADOCASADOCASADOCASADOCASADOCASADOCASADOCASADOCASADOCASADOCASADOCASADOCASADOCASADOCASADOCASADOCASADOCASADOCASADOCASADOCASADOCASADOCASADOCASADOCASADOCASADOCASADOCASADOCASADOCASADOCASADOCASADOCASADOCASADOCASADOCASADOCASADOCASADOCASADOCASADOCASADOCASADOCASADOCASADOCASADOCASADOCASADOCASADOCASADOCASADOCASADOCASADOCASADOCASADOCASADOCASADOCASADOCASADOCASADOCASADOCASADOCASADOCASADOCASADOCASADOCASADOCASADOCASADOCASADOCASADOCASADOCASADOCASADOCASADOCASADOCASADOCASADOCASADOCASADOCASADOCASADOCASADOCASADOCASADOCASADOCASADOCASADOCASADOCASADOCASADOCASADOCASADOCASADOCASADOCASADOCASADOCASADOCASADOCASADOCASADOCASADOCASADOCASADOCASADOCASADOCASADOCASADOCASADOCASADOCASADOCASADOCASADOCASADOCASADOCASADOCASADOCASADOCASADOCASADOCASADOCASADOCASADOCASADOCASADOCASADOCASADOCASADOCASADOCASADOCASADOCASADOCASADOCASADOCASADOCASADOCASADOCASADOCASADOCASADOCASADOCASADOCASADOCASADOCASADOCASADOCASADOCASADOCASADOCASADOCASADOCASADOCASADOCASADOCASADOCASADOCASADOCASADOCASADOCASADOCASADOCASADOCASADOCASADOCASADOCASADOCASADOCASADOCASADOCASADOCASADOCASADOCASADOCASADOCASADOCASADOCASADOCASADOCASADOCASADOCASADOCASADOCASADOCASADOCASADOCASADOCASADOCASADOCASADOCASADOCASADOCASADOCASADOCASADOCASADOCASADOCASADOCASADOCASADOCASADOCASADOCASADOCASADOCASADOCASADOCASADOCASADOCASADOCASADOCASADOCASADOCASADOCASADOCASADOCASADOCASADOCASADOCASADOCASADOCASADOCASADOCASADOCASADOCASADOCASADOCASADOCASADOCASADOCASADOCASADOCASADOCASADOCASADOCASADOCASADOCASADOCASADOCASADOCASADOCASADOCASADOCASADOCASADOCASADOCASADOCASADOCASADOCASADOCASADOCASADOCASADOCASADOCASADOCASADOCASADOCASADOCASADOCASADOCASADOCASADOCASADOCASADOCASADOCASADOCASADOCASADOCASADOCASADOCASADOCASADOCASADOCASADOCASADOCASADOCASADOCASADOCASADOCASADOCASADOCASADOCASADOCASADOCASADOCASADOCASADOCASADOCASADOCASADOCASADOCASADOCASADOCASADOCASADOCASADOCASADOCASADOCASADOCASADOCASADOCASADOCASADOCASADOCASADOCASADOCASADOCASADOCASADOCASADOCASADOCASADOCASADOCASADOCASADOCASADOCASADOCASADOCASADOCASADOCASADOCASADOCASADOCASADOCASADOCASADOCASADOCASADOCASADOCASADOCASADOCASADOCASADOCASADOCASADOCASADOCASADOCASADOCASADOCASADOCASADOCASADOCASADOCASADOCASADOCASADOCASADOCASADOCASADOCASADOCASADOCASADOCASADOCASADOCASADOCASADOCASADOCASADOCASADOCASADOCASADOCASADOCASADOCASADOCASADOCASADOCASADOCASADOCASADOCASADOCASADOCASADOCASADOCASADOCASADOCASADOCASADOCASADOCASADOCASADOCASADOCASADOCASADOCASADOCASADOCASADOCASADOCASADOCASADOCASADOCASADOCASADOCASADOCASADOCASADOCASADOCASADOCASADOCASADOCASADOCASADOCASADOCASADOCASADOCASADOCASADOCASADOCASADOCASADOCASADOCASADOCASADOCASADOCASADOCASADOCASADOCASADOCASADOCASADOCASADOCASADOCASADOCASADOCASADOCASADOCASADOCASADOCASADOCASADOCASADOCASADOCASADOCASADOCASADOCASADOCASADOCASADOCASADOCASADOCASADOCASADOCASADOCASADOCASADOCASADOCASADOCASADOCASADOCASADOCASADOCASADOCASADOCASADOCASADOCASADOCASADOCASADOCASADOCASADOCASADOCASADOCASADOCASADOCASADOCASADOCASADOCASADOCASADOCASADOCASADOCASADOCASADOCASADOCASADOCASADOCASADOCASADOCASADOCASADOCASADOCASADOCASADOCASADOCASADOCASADOCASADOCASADOCASADOCASADOCASADOCASADOCASADOCASADOCASADOCASADOCASADOCASADOCASADOCASADOCASADOCASADOCASADOCASADOCASADOCASADOCASADOCASADOCASADOCASADOCASADOCASADOCASADOCASADOCASADOCASADOCASADOCASADOCASADOCASADOCASADOCASADOCASADOCASADOCASADOCASADOCASADOCASADOCASADOCASADOCASADOCASADOCASADOCASADOCASADOCASADOCASADOCASADOCASADOCASADOCASADOCASADOCASADOCASADOCASADOCASADOCASADOCASADOCASADOCASADOCASADOCASADOCASADOCASADOCASADOCASADOCASADOCASADOCASADOCASADOCASADOCASADOCASADOCASADOCASADOCASADOCASADOCASADOCASADOCASADOCASADOCASADOCASADOCASADOCASADOCASADOCASADOCASADOCASADOCASADOCASADOCASADOCASADOCASADOCASADOCASADOCASADOCASADOCASADOCASADOCASADOCASADOCASADOCASADOCASADOCASADOCASADOCASADOCASADOCASADOCASADOCASADOCASADOCASADOCASADOCASADOCASADOCASADOCASADOCASADOCASADOCASADOCASADOCASADOCASADOCASADOCASADOCASADOCASADOCASADOCASADOCASADOCASADOCASADOCASADOCASADOCASADOCASADOCASADOCASADOCASADOCASADOCASADOCASADOCASADOCASADOCASADOCASADOCASADOCASADOCASADOCASADOCASADOCASADOCASADOCASADOCASADOCASADOCASADOCASADOCASADOCASADOCASADOCASADOCASADOCASADOCASADOCASADOCASADOCASADOCASADOCASADOCASADOCASADOCASADOCASADOCASADOCASADOCASADOCASADOCASADOCASADOCASADOCASADOCASADOCASADOCASADOCASADOCASADOCASADOCASADOCASADOCASADOCASADOCASADOCASADOCASADOCASADOCASADOCASADOCASADOCASADOCASADOCASADOCASADOCASADOCASADOCASADOCASADOCASADOCASADOCASADOCASADOCASADOCASADOCASADOCASADOCASADOCASADOCASADOCASADOCASADOCASADOCASADOCASADOCASADOCASADOCASADOCASADOCASADOCASADOCASADOCASADOCASADOCASADOCASADOCASADOCASADOCASADOCASADOCASADOCASADOCASADOCASADOCASADOCASADOCASADOCASADOCASADOCASADOCASADOCASADOCASADOCASADOCASADOCASADOCASADOCASADOCASADOCASADOCASADOCASADOCASADOCASADOCASADOCASADOCASADOCASADOCASADOCASADOCASADOCASADOCASADOCASADOCASADOCASADOCASADOCASADOCASADOCASADOCASADOCASADOCASADOCASADOCASADOCASADOCASADOCASADOCASADOCASADOCASADOCASADOCASADOCASADOCASADOCASADOCASADOCASADOCASADOCASADOCASADOCASADOCASADOCASADOCASADOCASADOCASADOCASADOCASADOCASADOCASADOCASADOCASADOCASADOCASADOCASADOCASADOCASADOCASADOCASADOCASADOCASADOCASADOCASADOCASADOCASADOCASADOCASADOCASADOCASADOCASADOCASADOCASADOCASADOCASADOCASADOCASADOCASADOCASADOCASADOCASADOCASADOCASADOCASADOCASADOCASADOCASADOCASADOCASADOCASADOCASADOCASADOCASADOCASADOCASADOCASADOCASADOCASADOCASADOCASADOCASADOCASADOCASADOCASADOCASADOCASADOCASADOCASADOCASADOCASADOCASADOCASADOCASADOCASADOCASADOCASADOCASADOCASADOCASADOCASADOCASADO' to numeric\n",
      "\n",
      "The above exception was the direct cause of the following exception:\n",
      "\n",
      "Traceback (most recent call last):\n",
      "  File \"/opt/anaconda3/lib/python3.11/site-packages/dtale/views.py\", line 119, in _handle_exceptions\n",
      "    return func(*args, **kwargs)\n",
      "           ^^^^^^^^^^^^^^^^^^^^^\n",
      "  File \"/opt/anaconda3/lib/python3.11/site-packages/dtale/views.py\", line 3135, in get_column_analysis\n",
      "    return jsonify(**analysis.build())\n",
      "                     ^^^^^^^^^^^^^^^^\n",
      "  File \"/opt/anaconda3/lib/python3.11/site-packages/dtale/column_analysis.py\", line 141, in build\n",
      "    return_data, code = self.analysis.build(self)\n",
      "                        ^^^^^^^^^^^^^^^^^^^^^^^^^\n",
      "  File \"/opt/anaconda3/lib/python3.11/site-packages/dtale/column_analysis.py\", line 326, in build\n",
      "    ].agg(self.aggs)\n",
      "      ^^^^^^^^^^^^^^\n",
      "  File \"/opt/anaconda3/lib/python3.11/site-packages/pandas/core/groupby/generic.py\", line 1445, in aggregate\n",
      "    result = op.agg()\n",
      "             ^^^^^^^^\n",
      "  File \"/opt/anaconda3/lib/python3.11/site-packages/pandas/core/apply.py\", line 178, in agg\n",
      "    return self.agg_list_like()\n",
      "           ^^^^^^^^^^^^^^^^^^^^\n",
      "  File \"/opt/anaconda3/lib/python3.11/site-packages/pandas/core/apply.py\", line 311, in agg_list_like\n",
      "    return self.agg_or_apply_list_like(op_name=\"agg\")\n",
      "           ^^^^^^^^^^^^^^^^^^^^^^^^^^^^^^^^^^^^^^^^^^\n",
      "  File \"/opt/anaconda3/lib/python3.11/site-packages/pandas/core/apply.py\", line 1353, in agg_or_apply_list_like\n",
      "    keys, results = self.compute_list_like(op_name, selected_obj, kwargs)\n",
      "                    ^^^^^^^^^^^^^^^^^^^^^^^^^^^^^^^^^^^^^^^^^^^^^^^^^^^^^\n",
      "  File \"/opt/anaconda3/lib/python3.11/site-packages/pandas/core/apply.py\", line 370, in compute_list_like\n",
      "    new_res = getattr(colg, op_name)(func, *args, **kwargs)\n",
      "              ^^^^^^^^^^^^^^^^^^^^^^^^^^^^^^^^^^^^^^^^^^^^^\n",
      "  File \"/opt/anaconda3/lib/python3.11/site-packages/pandas/core/groupby/generic.py\", line 255, in aggregate\n",
      "    ret = self._aggregate_multiple_funcs(func, *args, **kwargs)\n",
      "          ^^^^^^^^^^^^^^^^^^^^^^^^^^^^^^^^^^^^^^^^^^^^^^^^^^^^^\n",
      "  File \"/opt/anaconda3/lib/python3.11/site-packages/pandas/core/groupby/generic.py\", line 360, in _aggregate_multiple_funcs\n",
      "    results[key] = self.aggregate(func, *args, **kwargs)\n",
      "                   ^^^^^^^^^^^^^^^^^^^^^^^^^^^^^^^^^^^^^\n",
      "  File \"/opt/anaconda3/lib/python3.11/site-packages/pandas/core/groupby/generic.py\", line 247, in aggregate\n",
      "    return getattr(self, func)(*args, **kwargs)\n",
      "           ^^^^^^^^^^^^^^^^^^^^^^^^^^^^^^^^^^^^\n",
      "  File \"/opt/anaconda3/lib/python3.11/site-packages/pandas/core/groupby/groupby.py\", line 2378, in mean\n",
      "    result = self._cython_agg_general(\n",
      "             ^^^^^^^^^^^^^^^^^^^^^^^^^\n",
      "  File \"/opt/anaconda3/lib/python3.11/site-packages/pandas/core/groupby/groupby.py\", line 1929, in _cython_agg_general\n",
      "    new_mgr = data.grouped_reduce(array_func)\n",
      "              ^^^^^^^^^^^^^^^^^^^^^^^^^^^^^^^\n",
      "  File \"/opt/anaconda3/lib/python3.11/site-packages/pandas/core/internals/base.py\", line 336, in grouped_reduce\n",
      "    res = func(arr)\n",
      "          ^^^^^^^^^\n",
      "  File \"/opt/anaconda3/lib/python3.11/site-packages/pandas/core/groupby/groupby.py\", line 1926, in array_func\n",
      "    result = self._agg_py_fallback(how, values, ndim=data.ndim, alt=alt)\n",
      "             ^^^^^^^^^^^^^^^^^^^^^^^^^^^^^^^^^^^^^^^^^^^^^^^^^^^^^^^^^^^\n",
      "  File \"/opt/anaconda3/lib/python3.11/site-packages/pandas/core/groupby/groupby.py\", line 1878, in _agg_py_fallback\n",
      "    raise type(err)(msg) from err\n",
      "TypeError: agg function failed [how->mean,dtype->object]\n",
      "2024-04-21 01:17:12,726 - ERROR    - Exception occurred while processing request: Can only use .str accessor with string values!\n",
      "Traceback (most recent call last):\n",
      "  File \"/opt/anaconda3/lib/python3.11/site-packages/dtale/views.py\", line 119, in _handle_exceptions\n",
      "    return func(*args, **kwargs)\n",
      "           ^^^^^^^^^^^^^^^^^^^^^\n",
      "  File \"/opt/anaconda3/lib/python3.11/site-packages/dtale/views.py\", line 3135, in get_column_analysis\n",
      "    return jsonify(**analysis.build())\n",
      "                     ^^^^^^^^^^^^^^^^\n",
      "  File \"/opt/anaconda3/lib/python3.11/site-packages/dtale/column_analysis.py\", line 141, in build\n",
      "    return_data, code = self.analysis.build(self)\n",
      "                        ^^^^^^^^^^^^^^^^^^^^^^^^^\n",
      "  File \"/opt/anaconda3/lib/python3.11/site-packages/dtale/column_analysis.py\", line 457, in build\n",
      "    hist = self.build_hist(s, code)\n",
      "           ^^^^^^^^^^^^^^^^^^^^^^^^\n",
      "  File \"/opt/anaconda3/lib/python3.11/site-packages/dtale/column_analysis.py\", line 511, in build_hist\n",
      "    pd.value_counts(s.str.split(expand=True).stack())\n",
      "                    ^^^^^\n",
      "  File \"/opt/anaconda3/lib/python3.11/site-packages/pandas/core/generic.py\", line 6204, in __getattr__\n",
      "    return object.__getattribute__(self, name)\n",
      "           ^^^^^^^^^^^^^^^^^^^^^^^^^^^^^^^^^^^\n",
      "  File \"/opt/anaconda3/lib/python3.11/site-packages/pandas/core/accessor.py\", line 224, in __get__\n",
      "    accessor_obj = self._accessor(obj)\n",
      "                   ^^^^^^^^^^^^^^^^^^^\n",
      "  File \"/opt/anaconda3/lib/python3.11/site-packages/pandas/core/strings/accessor.py\", line 190, in __init__\n",
      "    self._inferred_dtype = self._validate(data)\n",
      "                           ^^^^^^^^^^^^^^^^^^^^\n",
      "  File \"/opt/anaconda3/lib/python3.11/site-packages/pandas/core/strings/accessor.py\", line 244, in _validate\n",
      "    raise AttributeError(\"Can only use .str accessor with string values!\")\n",
      "AttributeError: Can only use .str accessor with string values!\n",
      "2024-04-21 01:17:33,905 - ERROR    - Exception occurred while processing request: ufunc 'isfinite' not supported for the input types, and the inputs could not be safely coerced to any supported types according to the casting rule ''safe''\n",
      "Traceback (most recent call last):\n",
      "  File \"/opt/anaconda3/lib/python3.11/site-packages/dtale/views.py\", line 119, in _handle_exceptions\n",
      "    return func(*args, **kwargs)\n",
      "           ^^^^^^^^^^^^^^^^^^^^^\n",
      "  File \"/opt/anaconda3/lib/python3.11/site-packages/dtale/views.py\", line 3135, in get_column_analysis\n",
      "    return jsonify(**analysis.build())\n",
      "                     ^^^^^^^^^^^^^^^^\n",
      "  File \"/opt/anaconda3/lib/python3.11/site-packages/dtale/column_analysis.py\", line 141, in build\n",
      "    return_data, code = self.analysis.build(self)\n",
      "                        ^^^^^^^^^^^^^^^^^^^^^^^^^\n",
      "  File \"/opt/anaconda3/lib/python3.11/site-packages/dtale/column_analysis.py\", line 185, in build\n",
      "    return_data, hist_labels = self.build_histogram_data(\n",
      "                               ^^^^^^^^^^^^^^^^^^^^^^^^^^\n",
      "  File \"/opt/anaconda3/lib/python3.11/site-packages/dtale/column_analysis.py\", line 161, in build_histogram_data\n",
      "    hist_data, hist_labels = np.histogram(series, **hist_kwargs)\n",
      "                             ^^^^^^^^^^^^^^^^^^^^^^^^^^^^^^^^^^^\n",
      "  File \"/opt/anaconda3/lib/python3.11/site-packages/numpy/lib/histograms.py\", line 780, in histogram\n",
      "    bin_edges, uniform_bins = _get_bin_edges(a, bins, range, weights)\n",
      "                              ^^^^^^^^^^^^^^^^^^^^^^^^^^^^^^^^^^^^^^^\n",
      "  File \"/opt/anaconda3/lib/python3.11/site-packages/numpy/lib/histograms.py\", line 426, in _get_bin_edges\n",
      "    first_edge, last_edge = _get_outer_edges(a, range)\n",
      "                            ^^^^^^^^^^^^^^^^^^^^^^^^^^\n",
      "  File \"/opt/anaconda3/lib/python3.11/site-packages/numpy/lib/histograms.py\", line 322, in _get_outer_edges\n",
      "    if not (np.isfinite(first_edge) and np.isfinite(last_edge)):\n",
      "            ^^^^^^^^^^^^^^^^^^^^^^^\n",
      "TypeError: ufunc 'isfinite' not supported for the input types, and the inputs could not be safely coerced to any supported types according to the casting rule ''safe''\n",
      "2024-04-21 01:18:14,411 - ERROR    - Exception occurred while processing request: ufunc 'isfinite' not supported for the input types, and the inputs could not be safely coerced to any supported types according to the casting rule ''safe''\n",
      "Traceback (most recent call last):\n",
      "  File \"/opt/anaconda3/lib/python3.11/site-packages/dtale/views.py\", line 119, in _handle_exceptions\n",
      "    return func(*args, **kwargs)\n",
      "           ^^^^^^^^^^^^^^^^^^^^^\n",
      "  File \"/opt/anaconda3/lib/python3.11/site-packages/dtale/views.py\", line 3135, in get_column_analysis\n",
      "    return jsonify(**analysis.build())\n",
      "                     ^^^^^^^^^^^^^^^^\n",
      "  File \"/opt/anaconda3/lib/python3.11/site-packages/dtale/column_analysis.py\", line 141, in build\n",
      "    return_data, code = self.analysis.build(self)\n",
      "                        ^^^^^^^^^^^^^^^^^^^^^^^^^\n",
      "  File \"/opt/anaconda3/lib/python3.11/site-packages/dtale/column_analysis.py\", line 185, in build\n",
      "    return_data, hist_labels = self.build_histogram_data(\n",
      "                               ^^^^^^^^^^^^^^^^^^^^^^^^^^\n",
      "  File \"/opt/anaconda3/lib/python3.11/site-packages/dtale/column_analysis.py\", line 161, in build_histogram_data\n",
      "    hist_data, hist_labels = np.histogram(series, **hist_kwargs)\n",
      "                             ^^^^^^^^^^^^^^^^^^^^^^^^^^^^^^^^^^^\n",
      "  File \"/opt/anaconda3/lib/python3.11/site-packages/numpy/lib/histograms.py\", line 780, in histogram\n",
      "    bin_edges, uniform_bins = _get_bin_edges(a, bins, range, weights)\n",
      "                              ^^^^^^^^^^^^^^^^^^^^^^^^^^^^^^^^^^^^^^^\n",
      "  File \"/opt/anaconda3/lib/python3.11/site-packages/numpy/lib/histograms.py\", line 426, in _get_bin_edges\n",
      "    first_edge, last_edge = _get_outer_edges(a, range)\n",
      "                            ^^^^^^^^^^^^^^^^^^^^^^^^^^\n",
      "  File \"/opt/anaconda3/lib/python3.11/site-packages/numpy/lib/histograms.py\", line 322, in _get_outer_edges\n",
      "    if not (np.isfinite(first_edge) and np.isfinite(last_edge)):\n",
      "            ^^^^^^^^^^^^^^^^^^^^^^^\n",
      "TypeError: ufunc 'isfinite' not supported for the input types, and the inputs could not be safely coerced to any supported types according to the casting rule ''safe''\n"
     ]
    }
   ],
   "source": [
    "plt.figure(figsize=(7,5))\n",
    "sns.countplot(y=df_creditos['objetivo_credito'], order=df_creditos['objetivo_credito'].value_counts().index)\n",
    "plt.show()"
   ]
  },
  {
   "cell_type": "code",
   "execution_count": 10,
   "metadata": {},
   "outputs": [
    {
     "data": {
      "image/png": "[encoded data removed]",
      "text/plain": [
       "<Figure size 700x500 with 1 Axes>"
      ]
     },
     "metadata": {},
     "output_type": "display_data"
    }
   ],
   "source": [
    "plt.figure(figsize=(7,5))\n",
    "sns.countplot(y=df_tarjetas['estado_civil'], order=df_tarjetas['estado_civil'].value_counts().index)\n",
    "plt.show()"
   ]
  }
 ],
 "metadata": {
  "kernelspec": {
   "display_name": "data",
   "language": "python",
   "name": "python3"
  },
  "language_info": {
   "codemirror_mode": {
    "name": "ipython",
    "version": 3
   },
   "file_extension": ".py",
   "mimetype": "text/x-python",
   "name": "python",
   "nbconvert_exporter": "python",
   "pygments_lexer": "ipython3",
   "version": "3.11.7"
  }
 },
 "nbformat": 4,
 "nbformat_minor": 2
}
